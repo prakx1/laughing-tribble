{
 "cells": [
  {
   "cell_type": "markdown",
   "metadata": {},
   "source": [
    "# Uncertainty_Estimates_from_Classifiers\n",
    "Often, you arenot only interested in which class a classifier predicts for a certain test point, but also\n",
    "how certain it is that this is the right class.There are two different functions in scikit-learn that can be used to obtain uncertainty estimates from classifiers: decision_function and predict_proba ."
   ]
  },
  {
   "cell_type": "code",
   "execution_count": 1,
   "metadata": {},
   "outputs": [],
   "source": [
    "import pandas as pd\n",
    "import numpy as np"
   ]
  },
  {
   "cell_type": "code",
   "execution_count": 2,
   "metadata": {},
   "outputs": [
    {
     "data": {
      "text/plain": [
       "array([1, 1, 0, 1, 1, 0, 0, 1, 1, 1, 1, 0, 1, 1, 1, 0, 0, 0, 1, 0, 0, 1, 1,\n",
       "       1, 0, 0, 1, 0, 0, 0, 1, 1, 1, 1, 1, 0, 0, 1, 0, 0, 1, 1, 1, 0, 1, 0,\n",
       "       0, 1, 0, 1, 0, 1, 0, 0, 1, 0, 0, 1, 0, 1, 0, 1, 1, 0, 0, 1, 0, 1, 0,\n",
       "       1, 1, 0, 1, 1, 0, 1, 0, 1, 1, 0, 0, 0, 0, 0, 0, 1, 0, 0, 1, 1, 0, 0,\n",
       "       1, 1, 0, 1, 0, 1, 0, 0])"
      ]
     },
     "execution_count": 2,
     "metadata": {},
     "output_type": "execute_result"
    }
   ],
   "source": [
    "from sklearn.ensemble import GradientBoostingClassifier\n",
    "from sklearn.datasets import make_blobs, make_circles\n",
    "X, y = make_circles(noise=0.25, factor=0.5, random_state=1)\n",
    "y"
   ]
  },
  {
   "cell_type": "code",
   "execution_count": 3,
   "metadata": {},
   "outputs": [],
   "source": [
    "# we rename the classes \"blue\" and \"red\" for illustration purposes\n",
    "y_named = np.array([\"blue\", \"red\"])[y]"
   ]
  },
  {
   "cell_type": "code",
   "execution_count": 4,
   "metadata": {},
   "outputs": [],
   "source": [
    "gbrt=GradientBoostingClassifier(random_state=0)"
   ]
  },
  {
   "cell_type": "code",
   "execution_count": 5,
   "metadata": {},
   "outputs": [],
   "source": [
    "from sklearn.model_selection import train_test_split\n",
    "X_train, X_test, y_train_named, y_test_named, y_train, y_test =train_test_split(X, y_named, y, random_state=0)"
   ]
  },
  {
   "cell_type": "code",
   "execution_count": 6,
   "metadata": {},
   "outputs": [
    {
     "data": {
      "text/plain": [
       "GradientBoostingClassifier(random_state=0)"
      ]
     },
     "execution_count": 6,
     "metadata": {},
     "output_type": "execute_result"
    }
   ],
   "source": [
    "gbrt.fit(X_train,y_train_named)"
   ]
  },
  {
   "cell_type": "markdown",
   "metadata": {},
   "source": [
    "# Decision Function"
   ]
  },
  {
   "cell_type": "code",
   "execution_count": 7,
   "metadata": {},
   "outputs": [
    {
     "name": "stdout",
     "output_type": "stream",
     "text": [
      "X_test shape: (25, 2)\n",
      "decision_function shape: (25,)\n"
     ]
    }
   ],
   "source": [
    "print(\"X_test shape: {}\".format(X_test.shape))\n",
    "print(\"decision_function shape: {}\".format(gbrt.decision_function(X_test).shape))\n"
   ]
  },
  {
   "cell_type": "code",
   "execution_count": 8,
   "metadata": {
    "scrolled": true
   },
   "outputs": [
    {
     "name": "stdout",
     "output_type": "stream",
     "text": [
      "Decision Function:[ 4.13592603 -1.70169917 -3.95106099 -3.62609552  4.28986642  3.66166081\n",
      " -7.69097179  4.11001686  1.10753937  3.40782222 -6.46255955  4.28986642\n",
      "  3.90156346 -1.20031247  3.66166081 -4.17231157 -1.23010079 -3.91576223\n",
      "  4.03602783  4.11001686  4.11001686  0.65709014  2.69826265 -2.65673274\n",
      " -1.86776596]\n"
     ]
    }
   ],
   "source": [
    "print(\"Decision Function:{}\".format(gbrt.decision_function(X_test)))"
   ]
  },
  {
   "cell_type": "markdown",
   "metadata": {},
   "source": [
    "#### Getting decision function along with predictions"
   ]
  },
  {
   "cell_type": "code",
   "execution_count": 9,
   "metadata": {},
   "outputs": [
    {
     "name": "stdout",
     "output_type": "stream",
     "text": [
      "Thresholded decision function:\n",
      "[ 4.13592603 -1.70169917 -3.95106099 -3.62609552  4.28986642  3.66166081\n",
      " -7.69097179  4.11001686  1.10753937  3.40782222 -6.46255955  4.28986642\n",
      "  3.90156346 -1.20031247  3.66166081 -4.17231157 -1.23010079 -3.91576223\n",
      "  4.03602783  4.11001686  4.11001686  0.65709014  2.69826265 -2.65673274\n",
      " -1.86776596]\n",
      "Predictions:\n",
      "['red' 'blue' 'blue' 'blue' 'red' 'red' 'blue' 'red' 'red' 'red' 'blue'\n",
      " 'red' 'red' 'blue' 'red' 'blue' 'blue' 'blue' 'red' 'red' 'red' 'red'\n",
      " 'red' 'blue' 'blue']\n"
     ]
    }
   ],
   "source": [
    "print(\"Thresholded decision function:\\n{}\".format(gbrt.decision_function(X_test)))\n",
    "print(\"Predictions:\\n{}\".format(gbrt.predict(X_test)))"
   ]
  },
  {
   "cell_type": "markdown",
   "metadata": {},
   "source": [
    "**For binary classification the first entry of classes_ attrriibute is 'negative class' and second attribute is 'postive class'**"
   ]
  },
  {
   "cell_type": "code",
   "execution_count": 10,
   "metadata": {},
   "outputs": [
    {
     "data": {
      "text/plain": [
       "array(['blue', 'red'],\n",
       "      dtype='<U4')"
      ]
     },
     "execution_count": 10,
     "metadata": {},
     "output_type": "execute_result"
    }
   ],
   "source": [
    "gbrt.classes_\n",
    "#Here blue is negative class and red is possitve class."
   ]
  },
  {
   "cell_type": "markdown",
   "metadata": {},
   "source": [
    "# Predicting Probabilities\n",
    " The output of predict_proba is a probability for each class.It is always of shape (n_samples,2) for binary classification:"
   ]
  },
  {
   "cell_type": "code",
   "execution_count": 11,
   "metadata": {},
   "outputs": [
    {
     "name": "stdout",
     "output_type": "stream",
     "text": [
      "Predict Probabilites:(25, 2)\n"
     ]
    }
   ],
   "source": [
    "print(\"Predict Probabilites:{}\".format(gbrt.predict_proba(X_test).shape))"
   ]
  },
  {
   "cell_type": "code",
   "execution_count": 12,
   "metadata": {},
   "outputs": [
    {
     "name": "stdout",
     "output_type": "stream",
     "text": [
      "Predict Probabilites:\n",
      "[[  1.57362639e-02   9.84263736e-01]\n",
      " [  8.45756526e-01   1.54243474e-01]\n",
      " [  9.81128693e-01   1.88713075e-02]\n",
      " [  9.74070327e-01   2.59296728e-02]\n",
      " [  1.35214212e-02   9.86478579e-01]\n",
      " [  2.50463747e-02   9.74953625e-01]\n",
      " [  9.99543275e-01   4.56725221e-04]\n",
      " [  1.61426376e-02   9.83857362e-01]\n",
      " [  2.48329911e-01   7.51670089e-01]\n",
      " [  3.20518935e-02   9.67948107e-01]]\n"
     ]
    }
   ],
   "source": [
    "print(\"Predict Probabilites:\\n{}\".format(gbrt.predict_proba(X_test)[:10]))"
   ]
  },
  {
   "cell_type": "markdown",
   "metadata": {},
   "source": [
    "Because the probabilities for the two classes sum to 1, exactly one of the classes will\n",
    "be above 50% certainty. That class is the one that is predicted. 13\n",
    "You can see in the previous output that the classifier is relatively certain for most\n",
    "points. How well the uncertainty actually reflects uncertainty in the data depends on\n",
    "the model and the parameters. A model that is more overfitted tends to make more\n",
    "certain predictions, even if they might be wrong. A model with less complexity usu‐\n",
    "ally has more uncertainty in its predictions. A model is called calibrated if the\n",
    "reported uncertainty actually matches how correct it is—in a calibrated model, a pre‐\n",
    "diction made with 70% certainty would be correct 70% of the time."
   ]
  },
  {
   "cell_type": "markdown",
   "metadata": {},
   "source": [
    "## Uncertainty in Multiclass Classification\n",
    "The decisionFUnction and predict probabiliies also work for multiclass classification"
   ]
  },
  {
   "cell_type": "code",
   "execution_count": 13,
   "metadata": {},
   "outputs": [],
   "source": [
    "from sklearn.datasets import load_iris\n",
    "iris=load_iris()\n",
    "train_X,val_X,train_y,val_y=train_test_split(iris.data,iris.target,random_state=0)\n"
   ]
  },
  {
   "cell_type": "code",
   "execution_count": 14,
   "metadata": {},
   "outputs": [
    {
     "data": {
      "text/plain": [
       "array([[-8.0104411 , -6.98527486,  4.81705717],\n",
       "       [-8.01819888,  3.77312674, -6.87620465],\n",
       "       [ 6.24999284, -4.29928465, -6.91535308],\n",
       "       [-8.01043891, -6.98023452,  4.73731973],\n",
       "       [ 6.24943072, -5.1093528 , -6.91535386],\n",
       "       [-8.01043891, -6.98002911,  4.73713144],\n",
       "       [ 6.24943072, -5.1093528 , -6.91535386],\n",
       "       [-8.02907841,  4.26196021, -6.37090699],\n",
       "       [-8.01820178,  4.26196021, -7.50283163],\n",
       "       [-8.01819888,  3.82570816, -6.92048631]])"
      ]
     },
     "execution_count": 14,
     "metadata": {},
     "output_type": "execute_result"
    }
   ],
   "source": [
    "gbrt=GradientBoostingClassifier(random_state=0)\n",
    "gbrt.fit(train_X,train_y)\n",
    "gbrt.decision_function(val_X[:10])"
   ]
  },
  {
   "cell_type": "markdown",
   "metadata": {},
   "source": [
    "In the multiclass case, the decision_function has the shape (n_samples,\n",
    "n_classes) and each column provides a “certainty score” for each class, where a large\n",
    "score means that a class is more likely and a small score means the class is less likely.You can recover the predictions from these scores by finding the maximum entry for\n",
    "each data point:"
   ]
  },
  {
   "cell_type": "code",
   "execution_count": 15,
   "metadata": {},
   "outputs": [
    {
     "name": "stdout",
     "output_type": "stream",
     "text": [
      "Argmax of decisionFunction:[2 1 0 2 0 2 0 1 1 1]\n",
      "Predictions--------------> [2 1 0 2 0 2 0 1 1 1]\n"
     ]
    }
   ],
   "source": [
    "print(\"Argmax of decisionFunction:{}\".format(np.argmax(gbrt.decision_function(val_X[:10]),axis=1)))\n",
    "print(\"Predictions--------------> {}\".format(gbrt.predict(val_X)[:10]))"
   ]
  },
  {
   "cell_type": "code",
   "execution_count": 16,
   "metadata": {},
   "outputs": [
    {
     "name": "stdout",
     "output_type": "stream",
     "text": [
      "[(2, array([  2.68586307e-06,   7.48700134e-06,   9.99989827e-01])), (1, array([  7.56970160e-06,   9.99968714e-01,   2.37159514e-05])), (0, array([  9.99971873e-01,   2.62116756e-05,   1.91580234e-06])), (2, array([  2.90880070e-06,   8.14940771e-06,   9.99988942e-01])), (0, array([  9.99986417e-01,   1.16664063e-05,   1.91690594e-06])), (2, array([  2.90934842e-06,   8.15261667e-06,   9.99988938e-01])), (0, array([  9.99986417e-01,   1.16664063e-05,   1.91690594e-06])), (1, array([  4.59258586e-06,   9.99971298e-01,   2.41097097e-05])), (1, array([  4.64288596e-06,   9.99987584e-01,   7.77338949e-06])), (1, array([  7.18197780e-06,   9.99971291e-01,   2.15265570e-05]))]\n"
     ]
    }
   ],
   "source": [
    "p=gbrt.predict_proba(val_X)[:10]\n",
    "pr=gbrt.predict(val_X)[:10]\n",
    "print(list(zip(pr,p)))"
   ]
  },
  {
   "cell_type": "markdown",
   "metadata": {},
   "source": [
    "Recovring predictions from probablilities"
   ]
  },
  {
   "cell_type": "code",
   "execution_count": 17,
   "metadata": {},
   "outputs": [
    {
     "name": "stdout",
     "output_type": "stream",
     "text": [
      "Argmax of predicted probabilities:\n",
      "[2 1 0 2 0 2 0 1 1 1 2 1 1 1 1 0 1 1 0 0 2 1 0 0 2 0 0 1 1 0 2 1 0 2 2 1 0\n",
      " 2]\n",
      "Predictions:\n",
      "[2 1 0 2 0 2 0 1 1 1 2 1 1 1 1 0 1 1 0 0 2 1 0 0 2 0 0 1 1 0 2 1 0 2 2 1 0\n",
      " 2]\n"
     ]
    }
   ],
   "source": [
    "print(\"Argmax of predicted probabilities:\\n{}\".format(np.argmax(gbrt.predict_proba(val_X), axis=1)))\n",
    "print(\"Predictions:\\n{}\".format(gbrt.predict(val_X)))"
   ]
  },
  {
   "cell_type": "code",
   "execution_count": 18,
   "metadata": {},
   "outputs": [
    {
     "name": "stdout",
     "output_type": "stream",
     "text": [
      "Classes:['setosa' 'versicolor' 'virginica']\n",
      "Predictions:['virginica' 'versicolor' 'setosa' 'virginica' 'setosa' 'virginica'\n",
      " 'setosa' 'versicolor' 'versicolor' 'versicolor']\n",
      "Decision FUnction:\n",
      "[[-5.05581224  1.11481883  3.94099342]\n",
      " [-1.69801813  2.63320413 -0.935186  ]\n",
      " [ 7.06426802  2.91978845 -9.98405647]\n",
      " [-7.79851933  2.03462574  5.76389359]\n",
      " [ 6.3586709   2.87287553 -9.23154643]\n",
      " [-7.03663254  0.96167231  6.07496023]\n",
      " [ 6.81126858  2.81547474 -9.62674331]\n",
      " [-3.35096083  2.22449021  1.12647062]\n",
      " [-3.78163474  2.41444677  1.36718797]\n",
      " [-1.52644578  2.29477296 -0.76832718]]\n",
      "argmax of decision function: [2 1 0 2 0 2 0 1 1 1]\n",
      "Predictions:['virginica' 'versicolor' 'setosa' 'virginica' 'setosa' 'virginica'\n",
      " 'setosa' 'versicolor' 'versicolor' 'versicolor']\n"
     ]
    }
   ],
   "source": [
    "from sklearn.linear_model import  LogisticRegression\n",
    "named_target=iris.target_names[train_y]\n",
    "logrig=LogisticRegression(max_iter=1000)\n",
    "logrig.fit(train_X,named_target)\n",
    "print(\"Classes:{}\".format(logrig.classes_))\n",
    "print(\"Predictions:{}\".format(logrig.predict(val_X)[:10]))\n",
    "print(\"Decision FUnction:\\n{}\".format(logrig.decision_function(val_X)[:10]))\n",
    "argmax_dec_func = np.argmax(logrig.decision_function(val_X), axis=1)\n",
    "print(\"argmax of decision function: {}\".format(argmax_dec_func[:10]))\n",
    "#https://scikit-learn.org/stable/developers/develop.html#Specific_models \n",
    "#and see also intro to ml page 127\n",
    "print('Predictions:{}'.format(logrig.classes_[argmax_dec_func][:10]))"
   ]
  }
 ],
 "metadata": {
  "kernelspec": {
   "display_name": "Python 3",
   "language": "python",
   "name": "python3"
  },
  "language_info": {
   "codemirror_mode": {
    "name": "ipython",
    "version": 3
   },
   "file_extension": ".py",
   "mimetype": "text/x-python",
   "name": "python",
   "nbconvert_exporter": "python",
   "pygments_lexer": "ipython3",
   "version": "3.6.9"
  }
 },
 "nbformat": 4,
 "nbformat_minor": 4
}
