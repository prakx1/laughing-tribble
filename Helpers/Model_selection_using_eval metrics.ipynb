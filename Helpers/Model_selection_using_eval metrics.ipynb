{
 "cells": [
  {
   "cell_type": "code",
   "execution_count": 3,
   "metadata": {},
   "outputs": [],
   "source": [
    "import pandas as pd\n"
   ]
  },
  {
   "cell_type": "markdown",
   "metadata": {},
   "source": [
    "cross_val exmaple"
   ]
  },
  {
   "cell_type": "code",
   "execution_count": 13,
   "metadata": {},
   "outputs": [
    {
     "name": "stdout",
     "output_type": "stream",
     "text": [
      "Cross Validation(ACCURACY):[ 0.96944444  0.99444444  0.99164345  0.98885794  0.99442897]\n",
      "Cross Validation(AUC):[ 0.9936407   0.99974897  0.999828    0.99819401  0.999914  ]\n",
      "Cross Validation(RECALL):[ 0.81081081  0.97297297  0.97222222  0.88888889  0.97222222]\n"
     ]
    }
   ],
   "source": [
    "from sklearn.datasets import  load_digits\n",
    "from sklearn.svm import SVC\n",
    "from sklearn.model_selection import cross_val_score\n",
    "\n",
    "dataset=load_digits()\n",
    "X,y=dataset.data,dataset.target==1\n",
    "svc=SVC().fit(X,y)\n",
    "\n",
    "print(\"Cross Validation(ACCURACY):{}\".format(cross_val_score(svc,X,y,cv=5)))\n",
    "print(\"Cross Validation(AUC):{}\".format(cross_val_score(svc,X,y,cv=5,scoring='roc_auc')))\n",
    "print(\"Cross Validation(RECALL):{}\".format(cross_val_score(svc,X,y,cv=5,scoring='recall')))"
   ]
  },
  {
   "cell_type": "markdown",
   "metadata": {},
   "source": [
    "GridSearchCV example"
   ]
  },
  {
   "cell_type": "code",
   "execution_count": null,
   "metadata": {},
   "outputs": [],
   "source": [
    "\n",
    "from sklearn.svm import SVC\n",
    "from sklearn.model_selection import GridSearchCV ,train_test_split\n",
    "from sklearn.metrics import roc_auc_score\n",
    "\n",
    "X_train, X_test, y_train, y_test = train_test_split(X, y, random_state=0)\n",
    "\n",
    "clf = SVC(kernel='rbf')\n",
    "grid_values = {'gamma': [0.001, 0.01, 0.05, 0.1, 1, 10, 100]}\n",
    "#with scoring acuracy(default)\n",
    "grid_clf_acc=GridSearchCV(clf,param_grid=grid_values)\n",
    "grid_clf_acc.fit(X_train,y_train)\n",
    "\n",
    "print('Grid best param Acuracy:{}'.format(grid_clf_acc.best_params_))\n",
    "print('Grid Best Score Acurray:{}\\n'.format(grid_clf_acc.best_score_))\n",
    "\n",
    "#With scoring ROC_AUC\n",
    "grid_clf_auc=GridSearchCV(clf,param_grid=grid_values,scoring='roc_auc')\n",
    "grid_clf_auc.fit(X_train,y_train)\n",
    "\n",
    "print(\"TEST SET AUC:{}\".format(roc_auc_score(y_test,grid_clf_auc.decision_function(X_test))))\n",
    "print(\"Grid best param(AUC):{}\".format(grid_clf_auc.best_params_))\n",
    "print(\"Grid Best Score (Auc):{}\".format(grid_clf_auc.best_score_))"
   ]
  },
  {
   "cell_type": "code",
   "execution_count": null,
   "metadata": {},
   "outputs": [],
   "source": []
  }
 ],
 "metadata": {
  "kernelspec": {
   "display_name": "Python 3",
   "language": "python",
   "name": "python3"
  },
  "language_info": {
   "codemirror_mode": {
    "name": "ipython",
    "version": 3
   },
   "file_extension": ".py",
   "mimetype": "text/x-python",
   "name": "python",
   "nbconvert_exporter": "python",
   "pygments_lexer": "ipython3",
   "version": "3.6.9"
  }
 },
 "nbformat": 4,
 "nbformat_minor": 4
}
