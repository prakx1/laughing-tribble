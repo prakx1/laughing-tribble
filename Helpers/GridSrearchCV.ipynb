{
 "cells": [
  {
   "cell_type": "code",
   "execution_count": 1,
   "metadata": {},
   "outputs": [],
   "source": [
    "import pandas as pd\n",
    "from sklearn import svm\n",
    "from sklearn.ensemble import RandomForestClassifier\n",
    "from sklearn.linear_model import LogisticRegression\n",
    "from sklearn.tree import DecisionTreeClassifier\n",
    "from sklearn.model_selection import ShuffleSplit\n",
    "from sklearn.model_selection import GridSearchCV"
   ]
  },
  {
   "cell_type": "code",
   "execution_count": 2,
   "metadata": {},
   "outputs": [],
   "source": [
    "from sklearn.datasets import load_digits\n",
    "digits = load_digits()\n",
    "X = digits.data\n",
    "y = digits.target"
   ]
  },
  {
   "cell_type": "code",
   "execution_count": 3,
   "metadata": {},
   "outputs": [],
   "source": [
    "algos = {\n",
    "    \n",
    "    \"svm\": {\n",
    "        \"model\": svm.SVC(),\n",
    "        \"params\": {\n",
    "            \"gamma\": [\"scale\", \"auto\"],\n",
    "            \"C\": [1.0, 2.0 ,5.0, 10.0 ],\n",
    "            \"kernel\": [\"linear\", \"poly\", \"rbf\"]\n",
    "        }        \n",
    "    }, \n",
    "    \"RandomForest\": {\n",
    "        \"model\": RandomForestClassifier(), \n",
    "        \"params\": {\n",
    "            \"n_estimators\": [1, 10, 20, 50 ,100]\n",
    "        }\n",
    "    }, \n",
    "    \"DecisionTreeClassifier\": {\n",
    "        \"model\": DecisionTreeClassifier(),\n",
    "        \"params\": {\n",
    "            \"criterion\": [\"gini\", \"entropy\"],\n",
    "            \"splitter\": [\"best\", \"random\"]\n",
    "            \n",
    "        }\n",
    "    }\n",
    "}\n",
    "scores = []\n",
    "for model_name, configs in algos.items():\n",
    "    cv = ShuffleSplit(n_splits=5, test_size=0.2, random_state=1)\n",
    "    cg = GridSearchCV(configs['model'], configs['params'], cv=cv, return_train_score=False)\n",
    "    cg.fit(X,y)\n",
    "    scores.append({\n",
    "        \"Model\":model_name,\n",
    "        \"Best Score\":cg.best_score_,\n",
    "        \"Best Params\":cg.best_params_\n",
    "        \n",
    "    })\n",
    "    \n",
    "\n"
   ]
  },
  {
   "cell_type": "code",
   "execution_count": 4,
   "metadata": {},
   "outputs": [],
   "source": [
    "results = pd.DataFrame(scores)"
   ]
  },
  {
   "cell_type": "code",
   "execution_count": 5,
   "metadata": {},
   "outputs": [
    {
     "data": {
      "text/html": [
       "<div>\n",
       "<style scoped>\n",
       "    .dataframe tbody tr th:only-of-type {\n",
       "        vertical-align: middle;\n",
       "    }\n",
       "\n",
       "    .dataframe tbody tr th {\n",
       "        vertical-align: top;\n",
       "    }\n",
       "\n",
       "    .dataframe thead th {\n",
       "        text-align: right;\n",
       "    }\n",
       "</style>\n",
       "<table border=\"1\" class=\"dataframe\">\n",
       "  <thead>\n",
       "    <tr style=\"text-align: right;\">\n",
       "      <th></th>\n",
       "      <th>Model</th>\n",
       "      <th>Best Score</th>\n",
       "      <th>Best Params</th>\n",
       "    </tr>\n",
       "  </thead>\n",
       "  <tbody>\n",
       "    <tr>\n",
       "      <th>0</th>\n",
       "      <td>svm</td>\n",
       "      <td>0.989444</td>\n",
       "      <td>{'C': 5.0, 'gamma': 'scale', 'kernel': 'rbf'}</td>\n",
       "    </tr>\n",
       "    <tr>\n",
       "      <th>1</th>\n",
       "      <td>RandomForest</td>\n",
       "      <td>0.977222</td>\n",
       "      <td>{'n_estimators': 100}</td>\n",
       "    </tr>\n",
       "    <tr>\n",
       "      <th>2</th>\n",
       "      <td>DecisionTreeClassifier</td>\n",
       "      <td>0.886111</td>\n",
       "      <td>{'criterion': 'entropy', 'splitter': 'best'}</td>\n",
       "    </tr>\n",
       "  </tbody>\n",
       "</table>\n",
       "</div>"
      ],
      "text/plain": [
       "                    Model  Best Score  \\\n",
       "0                     svm    0.989444   \n",
       "1            RandomForest    0.977222   \n",
       "2  DecisionTreeClassifier    0.886111   \n",
       "\n",
       "                                     Best Params  \n",
       "0  {'C': 5.0, 'gamma': 'scale', 'kernel': 'rbf'}  \n",
       "1                          {'n_estimators': 100}  \n",
       "2   {'criterion': 'entropy', 'splitter': 'best'}  "
      ]
     },
     "execution_count": 5,
     "metadata": {},
     "output_type": "execute_result"
    }
   ],
   "source": [
    "results"
   ]
  }
 ],
 "metadata": {
  "kernelspec": {
   "display_name": "Python 3",
   "language": "python",
   "name": "python3"
  },
  "language_info": {
   "codemirror_mode": {
    "name": "ipython",
    "version": 3
   },
   "file_extension": ".py",
   "mimetype": "text/x-python",
   "name": "python",
   "nbconvert_exporter": "python",
   "pygments_lexer": "ipython3",
   "version": "3.6.9"
  }
 },
 "nbformat": 4,
 "nbformat_minor": 4
}
